{
  "nbformat": 4,
  "nbformat_minor": 0,
  "metadata": {
    "colab": {
      "name": "mnist_with_keras.ipynb",
      "version": "0.3.2",
      "provenance": [],
      "include_colab_link": true
    },
    "kernelspec": {
      "name": "python3",
      "display_name": "Python 3"
    }
  },
  "cells": [
    {
      "cell_type": "markdown",
      "metadata": {
        "id": "view-in-github",
        "colab_type": "text"
      },
      "source": [
        "<a href=\"https://colab.research.google.com/github/Ucet786/hello-world/blob/master/mnist_with_keras.ipynb\" target=\"_parent\"><img src=\"https://colab.research.google.com/assets/colab-badge.svg\" alt=\"Open In Colab\"/></a>"
      ]
    },
    {
      "cell_type": "code",
      "metadata": {
        "id": "sXMQZ4hQoDF_",
        "colab_type": "code",
        "colab": {}
      },
      "source": [
        "import numpy\n",
        "import tensorflow as tf\n",
        "from tensorflow import keras\n",
        "from keras.datasets import mnist\n",
        "from keras.models import Sequential\n",
        "from keras.layers import Dense\n",
        "import matplotlib.pyplot as plt"
      ],
      "execution_count": 0,
      "outputs": []
    },
    {
      "cell_type": "code",
      "metadata": {
        "id": "voZycr2GpahS",
        "colab_type": "code",
        "colab": {}
      },
      "source": [
        "(train_images, train_labels), (test_images, test_labels) = mnist.load_data()"
      ],
      "execution_count": 0,
      "outputs": []
    },
    {
      "cell_type": "code",
      "metadata": {
        "id": "HNNeATURrjVm",
        "colab_type": "code",
        "colab": {}
      },
      "source": [
        "class_names = ['0', '1', '2', '3', '4',\n",
        "               '5', '6', '7', '8', '9']"
      ],
      "execution_count": 0,
      "outputs": []
    },
    {
      "cell_type": "code",
      "metadata": {
        "id": "60UGZfTMtWPw",
        "colab_type": "code",
        "outputId": "2f469c51-f31f-4efb-dcaa-2974aa8fe26d",
        "colab": {
          "base_uri": "https://localhost:8080/",
          "height": 592
        }
      },
      "source": [
        "plt.figure(figsize=(10,10))\n",
        "for i in range(25):\n",
        "    plt.subplot(5,5,i+1)\n",
        "    plt.xticks([])\n",
        "    plt.yticks([])\n",
        "    plt.grid(False)\n",
        "    plt.imshow(train_images[i], cmap=plt.cm.binary)\n",
        "    plt.xlabel(class_names[train_labels[i]])\n",
        "plt.show()"
      ],
      "execution_count": 0,
      "outputs": [
        {
          "output_type": "display_data",
          "data": {
            "image/png": "[encoded data removed]",
            "text/plain": [
              "<Figure size 720x720 with 25 Axes>"
            ]
          },
          "metadata": {
            "tags": []
          }
        }
      ]
    },
    {
      "cell_type": "code",
      "metadata": {
        "id": "OKzUt2RptfDO",
        "colab_type": "code",
        "colab": {}
      },
      "source": [
        "model = keras.Sequential([\n",
        "    keras.layers.Flatten(input_shape=(28, 28)),\n",
        "    keras.layers.Dense(128, activation='relu'),\n",
        "    keras.layers.Dense(10, activation='softmax')\n",
        "])"
      ],
      "execution_count": 0,
      "outputs": []
    },
    {
      "cell_type": "code",
      "metadata": {
        "id": "xs75cEt2tgAJ",
        "colab_type": "code",
        "colab": {}
      },
      "source": [
        "model.compile(optimizer='adam',\n",
        "              loss='sparse_categorical_crossentropy',\n",
        "              metrics=['accuracy'])"
      ],
      "execution_count": 0,
      "outputs": []
    },
    {
      "cell_type": "code",
      "metadata": {
        "id": "hFrsdTCqtsf9",
        "colab_type": "code",
        "outputId": "030649b3-d448-443d-ee54-cb4f5741545f",
        "colab": {
          "base_uri": "https://localhost:8080/",
          "height": 358
        }
      },
      "source": [
        "model.fit(train_images, train_labels, epochs=10)"
      ],
      "execution_count": 0,
      "outputs": [
        {
          "output_type": "stream",
          "text": [
            "Epoch 1/10\n",
            "60000/60000 [==============================] - 4s 65us/sample - loss: 2.7606 - acc: 0.8576\n",
            "Epoch 2/10\n",
            "60000/60000 [==============================] - 3s 58us/sample - loss: 0.3790 - acc: 0.9114\n",
            "Epoch 3/10\n",
            "60000/60000 [==============================] - 3s 58us/sample - loss: 0.2861 - acc: 0.9291\n",
            "Epoch 4/10\n",
            "60000/60000 [==============================] - 4s 58us/sample - loss: 0.2568 - acc: 0.9376\n",
            "Epoch 5/10\n",
            "60000/60000 [==============================] - 3s 58us/sample - loss: 0.2218 - acc: 0.9435\n",
            "Epoch 6/10\n",
            "60000/60000 [==============================] - 3s 58us/sample - loss: 0.2140 - acc: 0.9474\n",
            "Epoch 7/10\n",
            "60000/60000 [==============================] - 3s 58us/sample - loss: 0.1976 - acc: 0.9519\n",
            "Epoch 8/10\n",
            "60000/60000 [==============================] - 3s 58us/sample - loss: 0.1877 - acc: 0.9530\n",
            "Epoch 9/10\n",
            "60000/60000 [==============================] - 3s 58us/sample - loss: 0.1828 - acc: 0.9555\n",
            "Epoch 10/10\n",
            "60000/60000 [==============================] - 3s 58us/sample - loss: 0.1730 - acc: 0.9584\n"
          ],
          "name": "stdout"
        },
        {
          "output_type": "execute_result",
          "data": {
            "text/plain": [
              "<tensorflow.python.keras.callbacks.History at 0x7f71e5998fd0>"
            ]
          },
          "metadata": {
            "tags": []
          },
          "execution_count": 17
        }
      ]
    },
    {
      "cell_type": "code",
      "metadata": {
        "id": "QB5TgZ4-uEOF",
        "colab_type": "code",
        "outputId": "b5e3f05f-974f-4ab4-84b6-7ebb4ee82969",
        "colab": {
          "base_uri": "https://localhost:8080/",
          "height": 33
        }
      },
      "source": [
        "test_loss, test_acc = model.evaluate(test_images, test_labels)"
      ],
      "execution_count": 0,
      "outputs": [
        {
          "output_type": "stream",
          "text": [
            "10000/10000 [==============================] - 0s 29us/sample - loss: 0.2822 - acc: 0.9466\n"
          ],
          "name": "stdout"
        }
      ]
    }
  ]
}